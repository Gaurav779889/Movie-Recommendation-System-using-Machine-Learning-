{
 "cells": [
  {
   "cell_type": "code",
   "execution_count": 10,
   "metadata": {
    "id": "3pKLfltkaTGI"
   },
   "outputs": [],
   "source": [
    "from keras.datasets import imdb"
   ]
  },
  {
   "cell_type": "code",
   "execution_count": 11,
   "metadata": {
    "colab": {
     "base_uri": "https://localhost:8080/"
    },
    "id": "q4kkC5m4dB9g",
    "outputId": "fa651f20-551c-42be-a6f0-c42129324d41"
   },
   "outputs": [],
   "source": [
    "(train_data, train_label), (test_data, test_label) = imdb.load_data(num_words = 10000)"
   ]
  },
  {
   "cell_type": "code",
   "execution_count": 12,
   "metadata": {
    "id": "zQSeawyChhL8"
   },
   "outputs": [],
   "source": [
    "import numpy as np\n",
    "\n",
    "def vectorize_sequences(sequences, dimensions = 10000):\n",
    "  results = np.zeros((len(sequences), dimensions))\n",
    "  for i,sequences in enumerate(sequences):\n",
    "    results[i, sequences] = 1\n",
    "  return results\n",
    "\n",
    "x_train = vectorize_sequences(train_data)\n",
    "y_train = vectorize_sequences(test_data)"
   ]
  },
  {
   "cell_type": "code",
   "execution_count": 13,
   "metadata": {
    "id": "bfvRmjVvj8UH"
   },
   "outputs": [],
   "source": [
    "y_train = np.asarray(train_label).astype('float32')\n",
    "y_test = np.asarray(test_label).astype('float32')"
   ]
  },
  {
   "cell_type": "code",
   "execution_count": 14,
   "metadata": {
    "id": "A1fj3RCWpl8g"
   },
   "outputs": [],
   "source": [
    "from keras.models import Sequential\n",
    "from keras.layers import Dense"
   ]
  },
  {
   "cell_type": "code",
   "execution_count": 15,
   "metadata": {
    "id": "9ESdCTH5p3xJ"
   },
   "outputs": [],
   "source": [
    "model = Sequential()\n",
    "model.add(Dense(16, input_shape=(10000, ), activation = \"relu\"))\n",
    "model.add(Dense(16, activation = \"relu\"))\n",
    "model.add(Dense(1, activation = \"sigmoid\"))"
   ]
  },
  {
   "cell_type": "code",
   "execution_count": 16,
   "metadata": {
    "id": "t3u-nNLarXzk"
   },
   "outputs": [],
   "source": [
    "model.compile(optimizer='adam', loss = 'mse', metrics = ['accuracy'])"
   ]
  },
  {
   "cell_type": "code",
   "execution_count": 8,
   "metadata": {
    "colab": {
     "base_uri": "https://localhost:8080/"
    },
    "id": "Z9mUT6JqrlmZ",
    "outputId": "2c647471-7be6-409f-b58b-19f1f56557c9"
   },
   "outputs": [
    {
     "name": "stdout",
     "output_type": "stream",
     "text": [
      "Model: \"sequential\"\n",
      "_________________________________________________________________\n",
      " Layer (type)                Output Shape              Param #   \n",
      "=================================================================\n",
      " dense (Dense)               (None, 16)                160016    \n",
      "                                                                 \n",
      " dense_1 (Dense)             (None, 16)                272       \n",
      "                                                                 \n",
      " dense_2 (Dense)             (None, 1)                 17        \n",
      "                                                                 \n",
      "=================================================================\n",
      "Total params: 160,305\n",
      "Trainable params: 160,305\n",
      "Non-trainable params: 0\n",
      "_________________________________________________________________\n"
     ]
    }
   ],
   "source": [
    "model.summary()"
   ]
  },
  {
   "cell_type": "code",
   "execution_count": 17,
   "metadata": {
    "colab": {
     "base_uri": "https://localhost:8080/"
    },
    "id": "4DeosLh5rnaQ",
    "outputId": "3d005b2f-4ca4-4f71-9e3a-2396bbfc170f"
   },
   "outputs": [
    {
     "name": "stdout",
     "output_type": "stream",
     "text": [
      "Epoch 1/20\n",
      "35/35 [==============================] - 1s 22ms/step - loss: 0.1732 - accuracy: 0.7824 - val_loss: 0.1119 - val_accuracy: 0.8668\n",
      "Epoch 2/20\n",
      "35/35 [==============================] - 1s 16ms/step - loss: 0.0824 - accuracy: 0.9057 - val_loss: 0.0851 - val_accuracy: 0.8933\n",
      "Epoch 3/20\n",
      "35/35 [==============================] - 1s 16ms/step - loss: 0.0569 - accuracy: 0.9366 - val_loss: 0.0825 - val_accuracy: 0.8899\n",
      "Epoch 4/20\n",
      "35/35 [==============================] - 1s 16ms/step - loss: 0.0439 - accuracy: 0.9538 - val_loss: 0.0802 - val_accuracy: 0.8939\n",
      "Epoch 5/20\n",
      "35/35 [==============================] - 1s 17ms/step - loss: 0.0345 - accuracy: 0.9662 - val_loss: 0.0818 - val_accuracy: 0.8899\n",
      "Epoch 6/20\n",
      "35/35 [==============================] - 0s 14ms/step - loss: 0.0273 - accuracy: 0.9759 - val_loss: 0.0843 - val_accuracy: 0.8884\n",
      "Epoch 7/20\n",
      "35/35 [==============================] - 1s 15ms/step - loss: 0.0221 - accuracy: 0.9811 - val_loss: 0.0870 - val_accuracy: 0.8839\n",
      "Epoch 8/20\n",
      "35/35 [==============================] - 1s 15ms/step - loss: 0.0181 - accuracy: 0.9863 - val_loss: 0.0896 - val_accuracy: 0.8828\n",
      "Epoch 9/20\n",
      "35/35 [==============================] - 0s 14ms/step - loss: 0.0149 - accuracy: 0.9886 - val_loss: 0.0924 - val_accuracy: 0.8788\n",
      "Epoch 10/20\n",
      "35/35 [==============================] - 0s 14ms/step - loss: 0.0127 - accuracy: 0.9909 - val_loss: 0.0945 - val_accuracy: 0.8765\n",
      "Epoch 11/20\n",
      "35/35 [==============================] - 0s 14ms/step - loss: 0.0107 - accuracy: 0.9922 - val_loss: 0.0967 - val_accuracy: 0.8744\n",
      "Epoch 12/20\n",
      "35/35 [==============================] - 1s 14ms/step - loss: 0.0093 - accuracy: 0.9933 - val_loss: 0.0989 - val_accuracy: 0.8721\n",
      "Epoch 13/20\n",
      "35/35 [==============================] - 1s 15ms/step - loss: 0.0083 - accuracy: 0.9939 - val_loss: 0.1003 - val_accuracy: 0.8721\n",
      "Epoch 14/20\n",
      "35/35 [==============================] - 1s 15ms/step - loss: 0.0073 - accuracy: 0.9946 - val_loss: 0.1012 - val_accuracy: 0.8709\n",
      "Epoch 15/20\n",
      "35/35 [==============================] - 1s 14ms/step - loss: 0.0067 - accuracy: 0.9948 - val_loss: 0.1023 - val_accuracy: 0.8716\n",
      "Epoch 16/20\n",
      "35/35 [==============================] - 1s 16ms/step - loss: 0.0062 - accuracy: 0.9951 - val_loss: 0.1034 - val_accuracy: 0.8708\n",
      "Epoch 17/20\n",
      "35/35 [==============================] - 1s 15ms/step - loss: 0.0059 - accuracy: 0.9953 - val_loss: 0.1043 - val_accuracy: 0.8703\n",
      "Epoch 18/20\n",
      "35/35 [==============================] - 0s 14ms/step - loss: 0.0056 - accuracy: 0.9953 - val_loss: 0.1051 - val_accuracy: 0.8691\n",
      "Epoch 19/20\n",
      "35/35 [==============================] - 1s 14ms/step - loss: 0.0054 - accuracy: 0.9953 - val_loss: 0.1057 - val_accuracy: 0.8696\n",
      "Epoch 20/20\n",
      "35/35 [==============================] - 1s 16ms/step - loss: 0.0053 - accuracy: 0.9954 - val_loss: 0.1063 - val_accuracy: 0.8696\n"
     ]
    }
   ],
   "source": [
    "history = model.fit(x_train, y_train, validation_split = 0.3, epochs = 20, verbose = 1, batch_size = 512)"
   ]
  },
  {
   "cell_type": "code",
   "execution_count": null,
   "metadata": {
    "id": "5u_1kvpdvJUv"
   },
   "outputs": [],
   "source": []
  }
 ],
 "metadata": {
  "colab": {
   "provenance": []
  },
  "kernelspec": {
   "display_name": "Python 3 (ipykernel)",
   "language": "python",
   "name": "python3"
  },
  "language_info": {
   "codemirror_mode": {
    "name": "ipython",
    "version": 3
   },
   "file_extension": ".py",
   "mimetype": "text/x-python",
   "name": "python",
   "nbconvert_exporter": "python",
   "pygments_lexer": "ipython3",
   "version": "3.11.0"
  }
 },
 "nbformat": 4,
 "nbformat_minor": 1
}
